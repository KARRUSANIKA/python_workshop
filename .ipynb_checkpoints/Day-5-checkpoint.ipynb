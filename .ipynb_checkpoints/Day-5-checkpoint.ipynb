{
 "cells": [
  {
   "cell_type": "markdown",
   "metadata": {},
   "source": [
    "# regular expressions\n",
    "# oops\n",
    "# numpy\n",
    "# matplotlib\n",
    "# pandas"
   ]
  },
  {
   "cell_type": "markdown",
   "metadata": {},
   "source": [
    "# regular expressions:\n",
    "- to check the data is valid or not\n",
    "- data filters"
   ]
  },
  {
   "cell_type": "code",
   "execution_count": 15,
   "metadata": {},
   "outputs": [
    {
     "name": "stdout",
     "output_type": "stream",
     "text": [
      "aca\n"
     ]
    }
   ],
   "source": [
    "l=[\"abc\",\"aca\",\"adc\"]\n",
    "for i in l:\n",
    "    if i.endswith(\"a\"):\n",
    "        print(i)       "
   ]
  },
  {
   "cell_type": "code",
   "execution_count": 16,
   "metadata": {},
   "outputs": [
    {
     "name": "stdout",
     "output_type": "stream",
     "text": [
      "aca\n"
     ]
    }
   ],
   "source": [
    "l=[\"abc\",\"aca\",\"adc\"]\n",
    "for i in l:\n",
    "    if i.endswith(\"a\") and i.startswith(\"a\"):\n",
    "        print(i)       "
   ]
  },
  {
   "cell_type": "code",
   "execution_count": 17,
   "metadata": {},
   "outputs": [],
   "source": [
    "import re"
   ]
  },
  {
   "cell_type": "code",
   "execution_count": 18,
   "metadata": {},
   "outputs": [
    {
     "data": {
      "text/plain": [
       "['A',\n",
       " 'ASCII',\n",
       " 'DEBUG',\n",
       " 'DOTALL',\n",
       " 'I',\n",
       " 'IGNORECASE',\n",
       " 'L',\n",
       " 'LOCALE',\n",
       " 'M',\n",
       " 'MULTILINE',\n",
       " 'RegexFlag',\n",
       " 'S',\n",
       " 'Scanner',\n",
       " 'T',\n",
       " 'TEMPLATE',\n",
       " 'U',\n",
       " 'UNICODE',\n",
       " 'VERBOSE',\n",
       " 'X',\n",
       " '_MAXCACHE',\n",
       " '__all__',\n",
       " '__builtins__',\n",
       " '__cached__',\n",
       " '__doc__',\n",
       " '__file__',\n",
       " '__loader__',\n",
       " '__name__',\n",
       " '__package__',\n",
       " '__spec__',\n",
       " '__version__',\n",
       " '_alphanum_bytes',\n",
       " '_alphanum_str',\n",
       " '_cache',\n",
       " '_compile',\n",
       " '_compile_repl',\n",
       " '_expand',\n",
       " '_locale',\n",
       " '_pattern_type',\n",
       " '_pickle',\n",
       " '_subx',\n",
       " 'compile',\n",
       " 'copyreg',\n",
       " 'enum',\n",
       " 'error',\n",
       " 'escape',\n",
       " 'findall',\n",
       " 'finditer',\n",
       " 'fullmatch',\n",
       " 'functools',\n",
       " 'match',\n",
       " 'purge',\n",
       " 'search',\n",
       " 'split',\n",
       " 'sre_compile',\n",
       " 'sre_parse',\n",
       " 'sub',\n",
       " 'subn',\n",
       " 'template']"
      ]
     },
     "execution_count": 18,
     "metadata": {},
     "output_type": "execute_result"
    }
   ],
   "source": [
    "dir(re)"
   ]
  },
  {
   "cell_type": "markdown",
   "metadata": {},
   "source": [
    "# syntax\n",
    "# re.methodname(pattern,data)\n",
    "# pattern is format of required data\n",
    "# data is given values"
   ]
  },
  {
   "cell_type": "code",
   "execution_count": 32,
   "metadata": {},
   "outputs": [
    {
     "data": {
      "text/plain": [
       "True"
      ]
     },
     "execution_count": 32,
     "metadata": {},
     "output_type": "execute_result"
    }
   ],
   "source": [
    "s=\"abcdaabaa\" \n",
    "\"a\" in s"
   ]
  },
  {
   "cell_type": "code",
   "execution_count": 33,
   "metadata": {},
   "outputs": [
    {
     "data": {
      "text/plain": [
       "<_sre.SRE_Match object; span=(4, 6), match='aa'>"
      ]
     },
     "execution_count": 33,
     "metadata": {},
     "output_type": "execute_result"
    }
   ],
   "source": [
    "re.search(\"aa\",s)"
   ]
  },
  {
   "cell_type": "code",
   "execution_count": 34,
   "metadata": {},
   "outputs": [
    {
     "data": {
      "text/plain": [
       "['aa', 'aa']"
      ]
     },
     "execution_count": 34,
     "metadata": {},
     "output_type": "execute_result"
    }
   ],
   "source": [
    "re.findall(\"aa\",s)"
   ]
  },
  {
   "cell_type": "markdown",
   "metadata": {},
   "source": [
    ".(dot)\n",
    "- it matches any single character\n"
   ]
  },
  {
   "cell_type": "code",
   "execution_count": 35,
   "metadata": {},
   "outputs": [],
   "source": [
    "l=[\"abc\",\"aca\",\"aaa\",\"abba\",\"\"]"
   ]
  },
  {
   "cell_type": "code",
   "execution_count": 36,
   "metadata": {},
   "outputs": [
    {
     "name": "stdout",
     "output_type": "stream",
     "text": [
      "abc\n",
      "aca\n",
      "aaa\n",
      "abba\n"
     ]
    }
   ],
   "source": [
    "for i in l:\n",
    "    if re.search('.',i):\n",
    "        print(i)"
   ]
  },
  {
   "cell_type": "code",
   "execution_count": 46,
   "metadata": {},
   "outputs": [
    {
     "name": "stdout",
     "output_type": "stream",
     "text": [
      "abc\n",
      "aca\n",
      "aaa\n"
     ]
    }
   ],
   "source": [
    "l=[\"abc\",\"aca\",\"aaa\",\"abba\",\"aa\"]\n",
    "for i in l:\n",
    "    if len(i) == 3:\n",
    "        print(i)"
   ]
  },
  {
   "cell_type": "code",
   "execution_count": 56,
   "metadata": {},
   "outputs": [
    {
     "name": "stdout",
     "output_type": "stream",
     "text": [
      "abc\n",
      "aca\n",
      "aaa\n",
      "aa\n"
     ]
    }
   ],
   "source": [
    "l=[\"abc\",\"aca\",\"aaa\",\"abba\",\"aa\"]\n",
    "for i in l:\n",
    "    if len(i) == 3 or len(i) == 2:\n",
    "        print(i)"
   ]
  },
  {
   "cell_type": "code",
   "execution_count": 57,
   "metadata": {},
   "outputs": [
    {
     "name": "stdout",
     "output_type": "stream",
     "text": [
      "abc\n",
      "aca\n",
      "aaa\n",
      "abba\n"
     ]
    }
   ],
   "source": [
    "for i in l:\n",
    "    if re.search(\"...\",i):\n",
    "        print(i)"
   ]
  },
  {
   "cell_type": "code",
   "execution_count": 58,
   "metadata": {},
   "outputs": [
    {
     "name": "stdout",
     "output_type": "stream",
     "text": [
      "abc\n",
      "aca\n",
      "aaa\n",
      "abba\n"
     ]
    }
   ],
   "source": [
    "for i in l:\n",
    "    if re.search(\"....*\",i):\n",
    "        print(i)"
   ]
  },
  {
   "cell_type": "markdown",
   "metadata": {},
   "source": [
    "### * (star)\n",
    "- min value 0 and max value"
   ]
  },
  {
   "cell_type": "code",
   "execution_count": 59,
   "metadata": {},
   "outputs": [
    {
     "name": "stdout",
     "output_type": "stream",
     "text": [
      "abc\n",
      "aca\n",
      "aaa\n",
      "abba\n",
      "aa\n"
     ]
    }
   ],
   "source": [
    "for i in l:\n",
    "    if re.search(\"a*\",i):\n",
    "        print(i)"
   ]
  },
  {
   "cell_type": "markdown",
   "metadata": {},
   "source": [
    "### + (plus)\n",
    "- min value is 1 and max value is any\n"
   ]
  },
  {
   "cell_type": "code",
   "execution_count": 60,
   "metadata": {},
   "outputs": [
    {
     "name": "stdout",
     "output_type": "stream",
     "text": [
      "aaa\n"
     ]
    }
   ],
   "source": [
    "for i in l:\n",
    "    if re.search(\"aaa\",i):\n",
    "        print(i)"
   ]
  },
  {
   "cell_type": "code",
   "execution_count": 61,
   "metadata": {},
   "outputs": [
    {
     "name": "stdout",
     "output_type": "stream",
     "text": [
      "abc\n",
      "aca\n",
      "aaa\n",
      "abba\n",
      "aa\n"
     ]
    }
   ],
   "source": [
    "for i in l:\n",
    "    if re.search(\"a+\",i):\n",
    "        print(i)"
   ]
  },
  {
   "cell_type": "code",
   "execution_count": 62,
   "metadata": {},
   "outputs": [
    {
     "name": "stdout",
     "output_type": "stream",
     "text": [
      "aca\n",
      "aaa\n",
      "abba\n",
      "aa\n"
     ]
    }
   ],
   "source": [
    "for i in l:\n",
    "    if re.search(\"a.*a\",i):\n",
    "        print(i)"
   ]
  },
  {
   "cell_type": "markdown",
   "metadata": {},
   "source": [
    "### ^(cap)\n",
    "- starts with\n",
    "### $(dollar)\n",
    "- ends with\n",
    "### \\d :\n",
    "- digits\n",
    "### []\n",
    "- specific values\n",
    "### {min,max}\n",
    "- minimum to maximum value"
   ]
  },
  {
   "cell_type": "code",
   "execution_count": 69,
   "metadata": {},
   "outputs": [
    {
     "name": "stdout",
     "output_type": "stream",
     "text": [
      "['1', '123', '2', '456']\n"
     ]
    },
    {
     "data": {
      "text/plain": [
       "582"
      ]
     },
     "execution_count": 69,
     "metadata": {},
     "output_type": "execute_result"
    }
   ],
   "source": [
    " s =\"1 123 2 456\"\n",
    "l=s.split()\n",
    "print(l)\n",
    "sum(list(map(int,l)))\n"
   ]
  },
  {
   "cell_type": "code",
   "execution_count": 74,
   "metadata": {},
   "outputs": [
    {
     "data": {
      "text/plain": [
       "579"
      ]
     },
     "execution_count": 74,
     "metadata": {},
     "output_type": "execute_result"
    }
   ],
   "source": [
    "s =\"abc 123 hello 456\"\n",
    "pattern=\"\\d+\"\n",
    "li=re.findall(pattern,s)\n",
    "sum(list(map(int,li)))\n"
   ]
  },
  {
   "cell_type": "code",
   "execution_count": 96,
   "metadata": {},
   "outputs": [],
   "source": [
    "names=[\"suhek\",\"karru\",\"sanika\",\"sallu\",\"sallurk\"]\n",
    "pattern=\"^.{4}$\"\n",
    "for name in names:\n",
    "    if re.match(pattern,name):\n",
    "        print(name)"
   ]
  },
  {
   "cell_type": "code",
   "execution_count": 104,
   "metadata": {},
   "outputs": [
    {
     "name": "stdout",
     "output_type": "stream",
     "text": [
      "aaaa\n"
     ]
    }
   ],
   "source": [
    "names=[\"suhek\",\"skarru\",\"sanika\",\"sallu\",\"sallurk\",\"aaaa\"]\n",
    "pattern=\"^s.{4}u$\"\n",
    "pattern1=\"^[sa].{3}$\"\n",
    "for name in names:\n",
    "    if re.match(pattern1,name):\n",
    "        print(name)"
   ]
  },
  {
   "cell_type": "code",
   "execution_count": 105,
   "metadata": {},
   "outputs": [
    {
     "name": "stdout",
     "output_type": "stream",
     "text": [
      "sanika\n",
      "aaaa\n"
     ]
    }
   ],
   "source": [
    "names=[\"suhek\",\"skarru\",\"sanika\",\"sallu\",\"sallurk\",\"aaaa\"]\n",
    "pattern=\"^s.{4}u$\"\n",
    "pattern1=\"^.+[sa]$\"\n",
    "for name in names:\n",
    "    if re.match(pattern1,name):\n",
    "        print(name)"
   ]
  },
  {
   "cell_type": "code",
   "execution_count": 106,
   "metadata": {},
   "outputs": [
    {
     "name": "stdout",
     "output_type": "stream",
     "text": [
      "sanika\n"
     ]
    }
   ],
   "source": [
    "names=[\"suhek\",\"skarru\",\"sanika\",\"sallu\",\"sallurk\",\"aaaa\"]\n",
    "pattern=\"^s.{4}u$\"\n",
    "pattern1=\"^.+(ka)$\"\n",
    "for name in names:\n",
    "    if re.match(pattern1,name):\n",
    "        print(name)"
   ]
  },
  {
   "cell_type": "code",
   "execution_count": 118,
   "metadata": {},
   "outputs": [
    {
     "name": "stdout",
     "output_type": "stream",
     "text": [
      "+917093384843\n",
      "+917780227129\n",
      "+918172415740\n",
      "+919398008133\n",
      "+919618329993\n"
     ]
    }
   ],
   "source": [
    "# how to valid a phone number\n",
    "# 10 digits\n",
    "# starts with 6-9\n",
    "numbers=[\"+917093384843\",\"+917780227129\",\"+918172415740\",\"+919398008133\",\"+919618329993\",\"+911234567890\"]\n",
    "pattern=\"^(\\+91)[6-9]\\d{9}$\"\n",
    "for number in numbers:\n",
    "    if re.match(pattern,number):\n",
    "        print(number)"
   ]
  },
  {
   "cell_type": "code",
   "execution_count": 148,
   "metadata": {},
   "outputs": [
    {
     "name": "stdout",
     "output_type": "stream",
     "text": [
      "karishma4689@gmail.com\n"
     ]
    }
   ],
   "source": [
    "emails=[\"karishma4689@gmail.com\",\"jkgbhjv@\"]\n",
    "pattern=\"^[a-z]+[0-9]+[@](gmail.com)$\"\n",
    "for email in emails:\n",
    "    if re.match(pattern,email):\n",
    "        print(email)"
   ]
  },
  {
   "cell_type": "code",
   "execution_count": 154,
   "metadata": {},
   "outputs": [
    {
     "name": "stdout",
     "output_type": "stream",
     "text": [
      "Enter Your mail id: karishma@gmail.com\n",
      "invalid id\n",
      "invalid id\n",
      "invalid id\n",
      "invalid id\n",
      "invalid id\n",
      "invalid id\n",
      "invalid id\n",
      "invalid id\n",
      "invalid id\n",
      "invalid id\n",
      "invalid id\n",
      "invalid id\n",
      "invalid id\n",
      "invalid id\n",
      "invalid id\n",
      "invalid id\n",
      "invalid id\n",
      "invalid id\n"
     ]
    }
   ],
   "source": [
    "emails=input(\"Enter Your mail id: \")\n",
    "pattern=\"^[A-Za-z0-9]+[@](gmail.com)$\"\n",
    "for email in emails:\n",
    "    if re.match(pattern,email):\n",
    "        print(email)\n",
    "    if \n",
    "    else:\n",
    "        print(\"invalid id\")"
   ]
  },
  {
   "cell_type": "code",
   "execution_count": 155,
   "metadata": {},
   "outputs": [
    {
     "name": "stdout",
     "output_type": "stream",
     "text": [
      "Enter Your mail id: kariwbn@gmail.com\n"
     ]
    }
   ],
   "source": [
    "emails=input(\"Enter Your mail id: \")\n",
    "pattern=\"^[A-Za-z] {1-15}\\d{0,10}[@](gmail.com)$\"\n",
    "     if re.match(pattern,email):\n",
    "        print(email)"
   ]
  },
  {
   "cell_type": "markdown",
   "metadata": {},
   "source": [
    "## oops:\n",
    "- **class**:blueprint or model of a object\n",
    "- **object**:physical entity which is having state/action and behaviour\n",
    "- **constructor**:special method which is used to create instance variables\n"
   ]
  },
  {
   "cell_type": "markdown",
   "metadata": {},
   "source": [
    "# create a class\n",
    "# class classname:\n",
    "    # variables\n",
    "    # methods"
   ]
  },
  {
   "cell_type": "code",
   "execution_count": 5,
   "metadata": {},
   "outputs": [
    {
     "name": "stdout",
     "output_type": "stream",
     "text": [
      "10\n"
     ]
    }
   ],
   "source": [
    "class Student:\n",
    "    x=10\n",
    "p1=Student()\n",
    "print(p1.x)"
   ]
  },
  {
   "cell_type": "code",
   "execution_count": 6,
   "metadata": {},
   "outputs": [],
   "source": [
    "#create an object\n",
    "# referencevariable=classname()\n"
   ]
  },
  {
   "cell_type": "code",
   "execution_count": 4,
   "metadata": {},
   "outputs": [
    {
     "name": "stdout",
     "output_type": "stream",
     "text": [
      "10\n",
      "hello suhek\n"
     ]
    }
   ],
   "source": [
    "class Student:\n",
    "    x=10\n",
    "    def display(self,name):\n",
    "        print(\"hello {}\".format(name))\n",
    "s=Student()\n",
    "print(s.x)\n",
    "s.display(\"suhek\")"
   ]
  },
  {
   "cell_type": "code",
   "execution_count": 21,
   "metadata": {},
   "outputs": [
    {
     "name": "stdout",
     "output_type": "stream",
     "text": [
      "this is a constructor..\n",
      "10\n",
      "20\n",
      "this is a method...\n",
      "30\n",
      "this is a method...\n",
      "30\n"
     ]
    }
   ],
   "source": [
    "class Student:\n",
    "    x=10 #class var or static\n",
    "    def __init__(self):\n",
    "        self.y=20 # instance var\n",
    "        print(\"this is a constructor..\")\n",
    "    def m1(self):\n",
    "        z=30 # local var\n",
    "        print(\"this is a method...\")\n",
    "        print(z)\n",
    "s=Student()\n",
    "print(s.x)\n",
    "print(s.y)\n",
    "s.m1()\n",
    "s.m1()"
   ]
  },
  {
   "cell_type": "code",
   "execution_count": 24,
   "metadata": {},
   "outputs": [
    {
     "name": "stdout",
     "output_type": "stream",
     "text": [
      "this is a constructor..\n"
     ]
    }
   ],
   "source": [
    "class Student:\n",
    "    x=10 #class var or static\n",
    "    def __init__(self,name):\n",
    "        self.name=name\n",
    "        self.y=20 # instance var\n",
    "        print(\"this is a constructor..\")\n",
    "    def m1(self):\n",
    "        z=30 # local var\n",
    "        print(\"this is a method...\")\n",
    "        print(\"my name is {}\".format(self.name))\n",
    "        print(z)\n",
    "s=Student(\"mary\")"
   ]
  },
  {
   "cell_type": "code",
   "execution_count": null,
   "metadata": {},
   "outputs": [],
   "source": []
  }
 ],
 "metadata": {
  "kernelspec": {
   "display_name": "Python 3",
   "language": "python",
   "name": "python3"
  },
  "language_info": {
   "codemirror_mode": {
    "name": "ipython",
    "version": 3
   },
   "file_extension": ".py",
   "mimetype": "text/x-python",
   "name": "python",
   "nbconvert_exporter": "python",
   "pygments_lexer": "ipython3",
   "version": "3.6.5"
  }
 },
 "nbformat": 4,
 "nbformat_minor": 4
}
